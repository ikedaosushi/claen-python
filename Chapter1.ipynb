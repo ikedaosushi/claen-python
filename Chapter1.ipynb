{
 "cells": [
  {
   "cell_type": "markdown",
   "metadata": {},
   "source": [
    "## Listing 1-1. Variable Names"
   ]
  },
  {
   "cell_type": "code",
   "execution_count": 1,
   "metadata": {},
   "outputs": [],
   "source": [
    "names = \"Python\" # 変数名\n",
    "job_title = \"Software Engineer\" # アンダースコアを使った変数名\n",
    "populated_countries_list = [] # アンダースコアを使った変数名"
   ]
  },
  {
   "cell_type": "markdown",
   "metadata": {},
   "source": [
    "## Listing 1-2. Nonmangling Names"
   ]
  },
  {
   "cell_type": "code",
   "execution_count": 2,
   "metadata": {},
   "outputs": [],
   "source": [
    "_books = {} #  プライベートとして定義された変数\n",
    "__dict = [] # ビルトインライブラリとの競合を避けた変数"
   ]
  },
  {
   "cell_type": "markdown",
   "metadata": {},
   "source": [
    "## Listing 1-3. Normal Function Names"
   ]
  },
  {
   "cell_type": "code",
   "execution_count": 3,
   "metadata": {},
   "outputs": [],
   "source": [
    "# アンダースコアを使った関数名\n",
    "def get_data():\n",
    "    pass\n",
    "\n",
    "def calculate_tax_data():\n",
    "    pass"
   ]
  },
  {
   "cell_type": "markdown",
   "metadata": {},
   "source": [
    "## Listing 1-4. Function Names to Represent Private Methods and Nonmangling"
   ]
  },
  {
   "cell_type": "code",
   "execution_count": 6,
   "metadata": {},
   "outputs": [],
   "source": [
    "# アンダースコア1つを使ったプライベートな関数\n",
    "def _get_data():\n",
    "    pass\n",
    "\n",
    "# アンダースコア2つ使ったビルドインライブラリとの競合を避けた関数\n",
    "def __path():\n",
    "    pass"
   ]
  },
  {
   "cell_type": "markdown",
   "metadata": {},
   "source": [
    "## Listing 1-5. Function Names"
   ]
  },
  {
   "cell_type": "code",
   "execution_count": 8,
   "metadata": {},
   "outputs": [],
   "source": [
    "# 間違った方法\n",
    "def get_user_info(id):\n",
    "    db = get_db_connection()\n",
    "    user = execute_query_for_user(id)\n",
    "    return user\n",
    "\n",
    "# 正しい方法\n",
    "def get_user_by(user_id):\n",
    "    db = get_db_connection()\n",
    "    user = execute_user_query(user_id)\n",
    "    return user"
   ]
  },
  {
   "cell_type": "markdown",
   "metadata": {},
   "source": [
    "## Listing 1-6. Class Names"
   ]
  },
  {
   "cell_type": "code",
   "execution_count": 9,
   "metadata": {},
   "outputs": [],
   "source": [
    "class UserInformation:\n",
    "    def get_user(id):\n",
    "        db = get_db_connection()\n",
    "        user = execute_query_for_user(id)\n",
    "        return user"
   ]
  },
  {
   "cell_type": "markdown",
   "metadata": {},
   "source": [
    "## Listing 1-7. Constant Names"
   ]
  },
  {
   "cell_type": "code",
   "execution_count": 10,
   "metadata": {},
   "outputs": [],
   "source": [
    "TOTAL = 56\n",
    "TIMOUT = 6\n",
    "MAX_OVERFLOW = 7"
   ]
  },
  {
   "cell_type": "markdown",
   "metadata": {},
   "source": [
    "## Listing 1-8. Function and Method Arguments"
   ]
  },
  {
   "cell_type": "code",
   "execution_count": 11,
   "metadata": {},
   "outputs": [],
   "source": [
    "def calculate_tax(amount, yearly_tax):\n",
    "    pass\n",
    "\n",
    "class Player:\n",
    "    def get_total_score(self, player_name):\n",
    "        pass"
   ]
  },
  {
   "cell_type": "markdown",
   "metadata": {},
   "source": [
    "## Listing 1-9. Sort a Nested Dictionary"
   ]
  },
  {
   "cell_type": "code",
   "execution_count": 13,
   "metadata": {},
   "outputs": [],
   "source": [
    "users = [{\"first_name\": \"Helen\", \"age\": 39},\n",
    "         {\"first_name\": \"Buck\", \"age\": 10},\n",
    "         {\"first_name\": \"anni\", \"age\": 9}]\n",
    "\n",
    "users = sorted(users, key=lambda user: user[\"first_name\"].lower())"
   ]
  },
  {
   "cell_type": "markdown",
   "metadata": {},
   "source": [
    "## Listing 1-10. Sorted Dictionary by Function"
   ]
  },
  {
   "cell_type": "code",
   "execution_count": 14,
   "metadata": {},
   "outputs": [],
   "source": [
    "users = [{\"first_name\": \"Helen\", \"age\": 39},\n",
    "         {\"first_name\": \"Buck\", \"age\": 10},\n",
    "         {\"name\": \"anni\", \"age\": 9}\n",
    "         ]\n",
    "\n",
    "def get_user_name(users):\n",
    "    \"\"\"Get name of the user in lower case\"\"\"\n",
    "    return users[\"first_name\"].lower()\n",
    "\n",
    "def get_sorted_dictionary(users):\n",
    "    \"\"\"Sort the nested dictionary\"\"\"\n",
    "    if not isinstance(users, dict):\n",
    "        raise ValueError(\"Not a correct dictionary\")\n",
    "    if not len(users):\n",
    "        raise ValueError(\"Empty dictionary\")\n",
    "    users_by_name = sorted(users, key=get_user_name)\n",
    "    return users_by_name"
   ]
  },
  {
   "cell_type": "markdown",
   "metadata": {},
   "source": [
    "## Listing 1-11. Reading a CSV File"
   ]
  },
  {
   "cell_type": "code",
   "execution_count": null,
   "metadata": {},
   "outputs": [],
   "source": [
    "import csv\n",
    "with open(\"employee.csv\", mode=\"r\") as csv_file:\n",
    "    csv_reader = csv.DictReader(csv_file)\n",
    "    line_count = 0\n",
    "    for row in csv_reader:\n",
    "        if line_count == 0:\n",
    "            print(f'Column names are {\", \".join(row)}')\n",
    "            line_count += 1\n",
    "            print(f'\\t{row[\"name\"]} salary: {row[\"salary\"]}'\n",
    "                  f'and was born in {row[\"birthday month\"]}.')\n",
    "        line_count += 1\n",
    "    print(f'Processed {line_count} lines.')"
   ]
  },
  {
   "cell_type": "markdown",
   "metadata": {},
   "source": [
    "## Listing 1-12. Reading a CSV File, with More Readable Code\n"
   ]
  },
  {
   "cell_type": "code",
   "execution_count": null,
   "metadata": {},
   "outputs": [],
   "source": [
    "import csv\n",
    "with open('employee.txt', mode='r') as csv_file:\n",
    "    csv_reader = csv.DictReader(csv_file)\n",
    "    line_count = 0\n",
    "    process_salary(csv_reader)\n",
    "\n",
    "def process_salary(csv_reader):\n",
    "    \"\"\"Process salary of user from csv file.\"\"\"\n",
    "    for row in csv_reader:\n",
    "        if line_count == 0:\n",
    "            print(f'Column names are {\", \".join(row)}')\n",
    "            line_count += 1\n",
    "        print(f'\\t{row[\"name\"]} salary: {row[\"salary\"]}')\n",
    "        line_count += 1\n",
    "    print(f'Completed {line_count} lines.')"
   ]
  },
  {
   "cell_type": "markdown",
   "metadata": {},
   "source": [
    "## Listing 1-13. Using the join Method"
   ]
  },
  {
   "cell_type": "code",
   "execution_count": 15,
   "metadata": {},
   "outputs": [
    {
     "data": {
      "text/plain": [
       "'Json smart'"
      ]
     },
     "execution_count": 15,
     "metadata": {},
     "output_type": "execute_result"
    }
   ],
   "source": [
    "first_name = \"Json\"\n",
    "last_name = \"smart\"\n",
    "\n",
    "# Not a recommended way to concatenate string\n",
    "full_name = first_name + \"  \" +  last_name\n",
    "\n",
    "# More performant and improve readability\n",
    "\" \".join([first_name, last_name])"
   ]
  },
  {
   "cell_type": "markdown",
   "metadata": {},
   "source": [
    "## Listing 1-14. Function with a Docstring"
   ]
  },
  {
   "cell_type": "code",
   "execution_count": 17,
   "metadata": {},
   "outputs": [],
   "source": [
    "def get_prime_number():\n",
    "    \"\"\"Get list of prime numbers between 1 to 100.\"\"\"\n",
    "    pass"
   ]
  },
  {
   "cell_type": "markdown",
   "metadata": {},
   "source": [
    "## Listing 1-15. Multiline Docstring"
   ]
  },
  {
   "cell_type": "code",
   "execution_count": 18,
   "metadata": {},
   "outputs": [],
   "source": [
    "def call_weather_api(url, location):\n",
    "    \"\"\"Get the weather of specific location.\n",
    "    Calling weather api to check for weather by using weather api\n",
    "    and location. Make sure you provide city name only, country and\n",
    "    county names won't be accepted and will throw exception if not\n",
    "    found the city name.\n",
    "    :param url:  URL of the api to get weather.\n",
    "    :type url: str\n",
    "    :param location:  Location of the city to get the weather.\n",
    "    :type location: str\n",
    "    :return: Give the weather information of given location.\n",
    "    :rtype: str\n",
    "    \"\"\"\n",
    "    pass"
   ]
  },
  {
   "cell_type": "markdown",
   "metadata": {},
   "source": [
    "## Listing 1-16. Multiline Docstring with typing"
   ]
  },
  {
   "cell_type": "code",
   "execution_count": 19,
   "metadata": {},
   "outputs": [],
   "source": [
    "def call_weather_api(url: str, location: str) -> str:\n",
    "    \"\"\"Get the weather of specific location.\n",
    "    Calling weather api to check for weather by using weather api\n",
    "    and location. Make sure you provide city name only, country and\n",
    "    county names won't be accepted and will throw exception if not\n",
    "    found the city name.\n",
    "    \"\"\"\n",
    "    pass"
   ]
  },
  {
   "cell_type": "markdown",
   "metadata": {},
   "source": [
    "## Listing 1-17. Module Docstring"
   ]
  },
  {
   "cell_type": "code",
   "execution_count": 22,
   "metadata": {},
   "outputs": [],
   "source": [
    "\"\"\"\n",
    "This module contains all of the network related requests. This\n",
    "module will check for all the exceptions while making the\n",
    "network calls and raise exceptions for any unknown exception.\n",
    "Make sure that when you use this module, you handle these\n",
    "exceptions in client code as:\n",
    "NetworkError exception for network calls.\n",
    "NetworkNotFound exception if network not found.\n",
    "\"\"\"\n",
    "\n",
    "import urllib\n",
    "import json"
   ]
  },
  {
   "cell_type": "markdown",
   "metadata": {},
   "source": [
    "## Listing 1-18. Single-Line Docstring"
   ]
  },
  {
   "cell_type": "code",
   "execution_count": 23,
   "metadata": {},
   "outputs": [],
   "source": [
    "class Student:\n",
    "    \"\"\"This class handle actions performed by a student.\"\"\"\n",
    "    def __init__(self):\n",
    "        pass"
   ]
  },
  {
   "cell_type": "markdown",
   "metadata": {},
   "source": [
    "## Listing 1-19. Multiline Class Docstring"
   ]
  },
  {
   "cell_type": "code",
   "execution_count": 24,
   "metadata": {},
   "outputs": [],
   "source": [
    "class Student:\n",
    "    \"\"\"Student class information.\n",
    "    This class handle actions performed by a student.\n",
    "    This class provides information about student full name,\n",
    "    age, roll-number and other information.\n",
    "    Usage:\n",
    "    import student\n",
    "    student = student.Student()\n",
    "    student.get_name()\n",
    "    >>> 678998\n",
    "    \"\"\"\n",
    "    def __init__(self):\n",
    "        pass"
   ]
  },
  {
   "cell_type": "markdown",
   "metadata": {},
   "source": [
    "## Listing 1-20. Function Docstring"
   ]
  },
  {
   "cell_type": "code",
   "execution_count": 25,
   "metadata": {},
   "outputs": [],
   "source": [
    "def is_prime_number(number):\n",
    "    \"\"\"Check for prime number.\n",
    "    Check the given number is prime number or not by checking against all the numbers less the square root of given number.\n",
    "        :param number:  Given number to check for prime.\n",
    "        :type number: int\n",
    "        :return: True if number is prime otherwise False.\n",
    "        :rtype: boolean\n",
    "    \"\"\"\n",
    "    pass"
   ]
  },
  {
   "cell_type": "markdown",
   "metadata": {},
   "source": [
    "## Listing 1-21. Using a Lambda Without Assigning"
   ]
  },
  {
   "cell_type": "code",
   "execution_count": 27,
   "metadata": {},
   "outputs": [],
   "source": [
    "data = [[7], [3], [0], [8], [1], [4]]\n",
    "def min_val(data):\n",
    "    \"\"\"Find minimum value from the data list.\"\"\"\n",
    "    return min(data, key=lambda x:len(x))"
   ]
  },
  {
   "cell_type": "markdown",
   "metadata": {},
   "source": [
    "## Listing 1-22. Read File from a Document"
   ]
  },
  {
   "cell_type": "code",
   "execution_count": 28,
   "metadata": {},
   "outputs": [],
   "source": [
    "def read_file(file_name):\n",
    "    \"\"\"Read the file line by line.\"\"\"\n",
    "    fread = open(file_name, \"r\")\n",
    "    data = [line for line in fread if line.startswith(\">>\")]\n",
    "    return data"
   ]
  },
  {
   "cell_type": "markdown",
   "metadata": {},
   "source": [
    "## Listing 1-23. Read a File from a Document Using Iterators"
   ]
  },
  {
   "cell_type": "code",
   "execution_count": 32,
   "metadata": {},
   "outputs": [
    {
     "ename": "FileNotFoundError",
     "evalue": "[Errno 2] No such file or directory: 'logfile.txt'",
     "output_type": "error",
     "traceback": [
      "\u001b[0;31m---------------------------------------------------------------------------\u001b[0m",
      "\u001b[0;31mFileNotFoundError\u001b[0m                         Traceback (most recent call last)",
      "\u001b[0;32m<ipython-input-32-bf08450cb99f>\u001b[0m in \u001b[0;36m<module>\u001b[0;34m\u001b[0m\n\u001b[1;32m      6\u001b[0m \u001b[0;34m\u001b[0m\u001b[0m\n\u001b[1;32m      7\u001b[0m \u001b[0;34m\u001b[0m\u001b[0m\n\u001b[0;32m----> 8\u001b[0;31m \u001b[0;32mfor\u001b[0m \u001b[0mline\u001b[0m \u001b[0;32min\u001b[0m \u001b[0mread_file\u001b[0m\u001b[0;34m(\u001b[0m\u001b[0;34m\"logfile.txt\"\u001b[0m\u001b[0;34m)\u001b[0m\u001b[0;34m:\u001b[0m\u001b[0;34m\u001b[0m\u001b[0;34m\u001b[0m\u001b[0m\n\u001b[0m\u001b[1;32m      9\u001b[0m     \u001b[0mprint\u001b[0m\u001b[0;34m(\u001b[0m\u001b[0mline\u001b[0m\u001b[0;34m.\u001b[0m\u001b[0mstartswith\u001b[0m\u001b[0;34m(\u001b[0m\u001b[0;34m\">>\"\u001b[0m\u001b[0;34m)\u001b[0m\u001b[0;34m)\u001b[0m\u001b[0;34m\u001b[0m\u001b[0;34m\u001b[0m\u001b[0m\n",
      "\u001b[0;32m<ipython-input-32-bf08450cb99f>\u001b[0m in \u001b[0;36mread_file\u001b[0;34m(file_name)\u001b[0m\n\u001b[1;32m      1\u001b[0m \u001b[0;32mdef\u001b[0m \u001b[0mread_file\u001b[0m\u001b[0;34m(\u001b[0m\u001b[0mfile_name\u001b[0m\u001b[0;34m)\u001b[0m\u001b[0;34m:\u001b[0m\u001b[0;34m\u001b[0m\u001b[0;34m\u001b[0m\u001b[0m\n\u001b[1;32m      2\u001b[0m     \u001b[0;34m\"\"\"Read the file line by line.\"\"\"\u001b[0m\u001b[0;34m\u001b[0m\u001b[0;34m\u001b[0m\u001b[0m\n\u001b[0;32m----> 3\u001b[0;31m     \u001b[0;32mwith\u001b[0m \u001b[0mopen\u001b[0m\u001b[0;34m(\u001b[0m\u001b[0mfile_name\u001b[0m\u001b[0;34m)\u001b[0m \u001b[0;32mas\u001b[0m \u001b[0mfread\u001b[0m\u001b[0;34m:\u001b[0m\u001b[0;34m\u001b[0m\u001b[0;34m\u001b[0m\u001b[0m\n\u001b[0m\u001b[1;32m      4\u001b[0m         \u001b[0;32mfor\u001b[0m \u001b[0mline\u001b[0m \u001b[0;32min\u001b[0m \u001b[0mfread\u001b[0m\u001b[0;34m:\u001b[0m\u001b[0;34m\u001b[0m\u001b[0;34m\u001b[0m\u001b[0m\n\u001b[1;32m      5\u001b[0m             \u001b[0;32myield\u001b[0m \u001b[0mline\u001b[0m\u001b[0;34m\u001b[0m\u001b[0;34m\u001b[0m\u001b[0m\n",
      "\u001b[0;31mFileNotFoundError\u001b[0m: [Errno 2] No such file or directory: 'logfile.txt'"
     ]
    }
   ],
   "source": [
    "def read_file(file_name):\n",
    "    \"\"\"Read the file line by line.\"\"\"\n",
    "    with open(file_name) as fread:\n",
    "        for line in fread:\n",
    "            yield line\n",
    "\n",
    "\n",
    "for line in read_file(\"logfile.txt\"):\n",
    "    print(line.startswith(\">>\"))"
   ]
  },
  {
   "cell_type": "markdown",
   "metadata": {},
   "source": [
    "## Listing 1-24. else Clause with for Loop"
   ]
  },
  {
   "cell_type": "code",
   "execution_count": 33,
   "metadata": {},
   "outputs": [
    {
     "name": "stdout",
     "output_type": "stream",
     "text": [
      "Then\n",
      "Then\n",
      "Then\n",
      "Else\n"
     ]
    }
   ],
   "source": [
    "for item in [1, 2, 3]:\n",
    "    print(\"Then\")\n",
    "else:\n",
    "    print(\"Else\")"
   ]
  },
  {
   "cell_type": "markdown",
   "metadata": {},
   "source": [
    "## Listing 1-25. else Clause with the for Loop"
   ]
  },
  {
   "cell_type": "code",
   "execution_count": 34,
   "metadata": {},
   "outputs": [
    {
     "name": "stdout",
     "output_type": "stream",
     "text": [
      "Then\n",
      "Then\n",
      "Then\n",
      "Else\n"
     ]
    }
   ],
   "source": [
    "x = [1, 2, 3]\n",
    "while x:\n",
    "    print(\"Then\")\n",
    "    x.pop()\n",
    "else:\n",
    "    print(\"Else\")"
   ]
  },
  {
   "cell_type": "markdown",
   "metadata": {},
   "source": [
    "## Listing 1-26. else Clause with break\n"
   ]
  },
  {
   "cell_type": "code",
   "execution_count": 36,
   "metadata": {},
   "outputs": [
    {
     "name": "stdout",
     "output_type": "stream",
     "text": [
      "Then\n"
     ]
    }
   ],
   "source": [
    "for item in [1, 2, 3]:\n",
    "    if item % 2 == 0:\n",
    "        break\n",
    "    print(\"Then\")\n",
    "else:\n",
    "    print(\"Else\")"
   ]
  },
  {
   "cell_type": "markdown",
   "metadata": {},
   "source": [
    "## Listing 1-27. else Clause with break"
   ]
  },
  {
   "cell_type": "code",
   "execution_count": 39,
   "metadata": {},
   "outputs": [
    {
     "name": "stdout",
     "output_type": "stream",
     "text": [
      "Then\n"
     ]
    }
   ],
   "source": [
    "flag = True\n",
    "for item in [1, 2, 3]:\n",
    "    if item % 2 == 0:\n",
    "        flag = False\n",
    "        break\n",
    "    print(\"Then\")\n",
    "if flag:\n",
    "    print(\"Else\")"
   ]
  },
  {
   "cell_type": "markdown",
   "metadata": {},
   "source": [
    "## Listing 1-28. Division of Numbers with Exceptions\n"
   ]
  },
  {
   "cell_type": "code",
   "execution_count": 41,
   "metadata": {},
   "outputs": [],
   "source": [
    "def division(dividend, divisor):\n",
    "    \"\"\"Perform arithmetic division.\"\"\"\n",
    "    try:\n",
    "        return dividend/divisor\n",
    "    except ZeroDivisionError as zero:\n",
    "        raise ZeroDivisionError(\"Please provide greater than 0 value\")"
   ]
  },
  {
   "cell_type": "markdown",
   "metadata": {},
   "source": [
    "## Listing 1-29. Division Without Exceptions"
   ]
  },
  {
   "cell_type": "code",
   "execution_count": 42,
   "metadata": {},
   "outputs": [],
   "source": [
    "result = division(10, 2)"
   ]
  },
  {
   "cell_type": "markdown",
   "metadata": {},
   "source": [
    "## Listing 1-30. finally Keyword Use"
   ]
  },
  {
   "cell_type": "code",
   "execution_count": 43,
   "metadata": {},
   "outputs": [],
   "source": [
    "def send_email(host, port, user, password, email, message):\n",
    "    \"\"\"send email to specific email address.\"\"\"\n",
    "    try:\n",
    "        server = smtlib.SMTP(host=host, port=port)\n",
    "        server.ehlo()\n",
    "        server.login(user, password)\n",
    "        server.send_email(message)\n",
    "    finally:\n",
    "        server.quite()"
   ]
  },
  {
   "cell_type": "markdown",
   "metadata": {},
   "source": [
    "## Listing 1-31. finally Keyword Use to close the file"
   ]
  },
  {
   "cell_type": "code",
   "execution_count": 45,
   "metadata": {},
   "outputs": [],
   "source": [
    "def write_file(file_name):\n",
    "    \"\"\"Read given file line by line\"\"\"\n",
    "    myfile = open(file_name, \"w\")\n",
    "    try:\n",
    "        myfile.write(\"Python is awesome\") # Raise TypeError\n",
    "    finally:\n",
    "        myfile.close() # Executed before TypeError propagated"
   ]
  },
  {
   "cell_type": "markdown",
   "metadata": {},
   "source": [
    "## Listing 1-32. Creating a Specific Exception Class"
   ]
  },
  {
   "cell_type": "code",
   "execution_count": 48,
   "metadata": {},
   "outputs": [],
   "source": [
    "class UserNotFoundError(Exception):\n",
    "    \"\"\"Raise the exception when user not found.\"\"\"\n",
    "    def __init__(self, message=None, errors=None):\n",
    "        # Calling the base class constructor with the parameter it needs\n",
    "        super().__init__(message)\n",
    "        # New for your custom code\n",
    "        self.errors = errors\n",
    "\n",
    "def get_user_info(user_obj):\n",
    "    \"\"\"Get user information from DB.\"\"\"\n",
    "    user = get_user_from_db(user_obj)\n",
    "    if not user:\n",
    "        raise UserNotFoundException(f\"No user found of this id: {user_obj.id}\")"
   ]
  },
  {
   "cell_type": "markdown",
   "metadata": {},
   "source": [
    "## Listing 1-33. Creating a Custom Exception Class with a Broader Scope"
   ]
  },
  {
   "cell_type": "code",
   "execution_count": 51,
   "metadata": {},
   "outputs": [],
   "source": [
    "class ValidationError(Exception):\n",
    "    \"\"\"Raise the exception whenever validation failed..\"\"\"\n",
    "    def __init__(self, message=None, errors=None):\n",
    "        # Calling the base class constructor with the parameter it needs\n",
    "        super().__init__(message)\n",
    "        # New for your custom code\n",
    "        self.errors = errors"
   ]
  },
  {
   "cell_type": "markdown",
   "metadata": {},
   "source": [
    "## Listing 1-34. Creating a Custom Exception Class with a Broader Scope"
   ]
  },
  {
   "cell_type": "code",
   "execution_count": 1,
   "metadata": {},
   "outputs": [
    {
     "ename": "NameError",
     "evalue": "name 'session' is not defined",
     "output_type": "error",
     "traceback": [
      "\u001b[0;31m---------------------------------------------------------------------------\u001b[0m",
      "\u001b[0;31mNameError\u001b[0m                                 Traceback (most recent call last)",
      "\u001b[0;32m<ipython-input-1-477155b9a7ef>\u001b[0m in \u001b[0;36m<module>\u001b[0;34m\u001b[0m\n\u001b[1;32m      1\u001b[0m \u001b[0;32mfrom\u001b[0m \u001b[0mbotocore\u001b[0m\u001b[0;34m.\u001b[0m\u001b[0mexceptions\u001b[0m \u001b[0;32mimport\u001b[0m \u001b[0mClientError\u001b[0m\u001b[0;34m\u001b[0m\u001b[0;34m\u001b[0m\u001b[0m\n\u001b[0;32m----> 2\u001b[0;31m \u001b[0mec2\u001b[0m \u001b[0;34m=\u001b[0m \u001b[0msession\u001b[0m\u001b[0;34m.\u001b[0m\u001b[0mget_client\u001b[0m\u001b[0;34m(\u001b[0m\u001b[0;34m'ec2'\u001b[0m\u001b[0;34m,\u001b[0m \u001b[0;34m'us-east-2'\u001b[0m\u001b[0;34m)\u001b[0m\u001b[0;34m\u001b[0m\u001b[0;34m\u001b[0m\u001b[0m\n\u001b[0m\u001b[1;32m      3\u001b[0m \u001b[0;32mtry\u001b[0m\u001b[0;34m:\u001b[0m\u001b[0;34m\u001b[0m\u001b[0;34m\u001b[0m\u001b[0m\n\u001b[1;32m      4\u001b[0m     \u001b[0mparsed\u001b[0m \u001b[0;34m=\u001b[0m \u001b[0mec2\u001b[0m\u001b[0;34m.\u001b[0m\u001b[0mdescribe_instances\u001b[0m\u001b[0;34m(\u001b[0m\u001b[0mInstanceIds\u001b[0m\u001b[0;34m=\u001b[0m\u001b[0;34m[\u001b[0m\u001b[0;34m'i-badid'\u001b[0m\u001b[0;34m]\u001b[0m\u001b[0;34m)\u001b[0m\u001b[0;34m\u001b[0m\u001b[0;34m\u001b[0m\u001b[0m\n\u001b[1;32m      5\u001b[0m \u001b[0;32mexcept\u001b[0m \u001b[0mClientError\u001b[0m \u001b[0;32mas\u001b[0m \u001b[0me\u001b[0m\u001b[0;34m:\u001b[0m\u001b[0;34m\u001b[0m\u001b[0;34m\u001b[0m\u001b[0m\n",
      "\u001b[0;31mNameError\u001b[0m: name 'session' is not defined"
     ]
    }
   ],
   "source": [
    "from botocore.exceptions import ClientError\n",
    "ec2 = session.get_client('ec2', 'us-east-2')\n",
    "try:\n",
    "    parsed = ec2.describe_instances(InstanceIds=['i-badid'])\n",
    "except ClientError as e:\n",
    "    logger.error(\"Received error: %s\", e, exc_info=True)\n",
    "    # Only worry about a specific service error code\n",
    "    if e.response['Error']['Code'] == 'InvalidInstanceID.NotFound':\n",
    "            raise WrongInstanceIDError(message=exc_info, errors=e)\n",
    "\n",
    "class WrongInstanceIDError(Exception):\n",
    "    \"\"\"Raise the exception whenever Invalid instance found.\"\"\"\n",
    "    def __init__(self, message=None, errors=None):\n",
    "        # Calling the base class constructor with the parameter it needs\n",
    "        super().__init__(message)\n",
    "        # New for your custom code\n",
    "        self.errors = errors"
   ]
  },
  {
   "cell_type": "code",
   "execution_count": 3,
   "metadata": {},
   "outputs": [],
   "source": [
    "#connection\n",
    "class NewProtocol:\n",
    "    def __init__(self, host, port):\n",
    "        self.host = host\n",
    "        self.port = port\n",
    "        \n",
    "    def __enter__(self):\n",
    "        print(\"enter\")\n",
    "\n",
    "    def __exit__(self, exception, value, traceback):\n",
    "        print(\"close\")\n",
    "    \n",
    "    def transfer_data(self, payload):\n",
    "        print(\"transfer_data\")\n",
    "    def receive_data(self):\n",
    "        pass"
   ]
  },
  {
   "cell_type": "code",
   "execution_count": 9,
   "metadata": {},
   "outputs": [
    {
     "name": "stdout",
     "output_type": "stream",
     "text": [
      "enter\n",
      "close\n"
     ]
    },
    {
     "ename": "NameError",
     "evalue": "name 'transfer_data' is not defined",
     "output_type": "error",
     "traceback": [
      "\u001b[0;31m---------------------------------------------------------------------------\u001b[0m",
      "\u001b[0;31mNameError\u001b[0m                                 Traceback (most recent call last)",
      "\u001b[0;32m<ipython-input-9-aee7d2b837bb>\u001b[0m in \u001b[0;36m<module>\u001b[0;34m\u001b[0m\n\u001b[1;32m      1\u001b[0m \u001b[0;32mwith\u001b[0m \u001b[0mNewProtocol\u001b[0m\u001b[0;34m(\u001b[0m\u001b[0;34m\"host\"\u001b[0m\u001b[0;34m,\u001b[0m \u001b[0;34m\"port\"\u001b[0m\u001b[0;34m)\u001b[0m\u001b[0;34m:\u001b[0m\u001b[0;34m\u001b[0m\u001b[0;34m\u001b[0m\u001b[0m\n\u001b[0;32m----> 2\u001b[0;31m     \u001b[0mtransfer_data\u001b[0m\u001b[0;34m(\u001b[0m\u001b[0;34m)\u001b[0m\u001b[0;34m\u001b[0m\u001b[0;34m\u001b[0m\u001b[0m\n\u001b[0m",
      "\u001b[0;31mNameError\u001b[0m: name 'transfer_data' is not defined"
     ]
    }
   ],
   "source": [
    "with NewProtocol(\"host\", \"port\"):\n",
    "    transfer_data()"
   ]
  },
  {
   "cell_type": "code",
   "execution_count": null,
   "metadata": {},
   "outputs": [],
   "source": []
  },
  {
   "cell_type": "code",
   "execution_count": null,
   "metadata": {},
   "outputs": [],
   "source": []
  },
  {
   "cell_type": "code",
   "execution_count": null,
   "metadata": {},
   "outputs": [],
   "source": []
  },
  {
   "cell_type": "code",
   "execution_count": null,
   "metadata": {},
   "outputs": [],
   "source": []
  }
 ],
 "metadata": {
  "kernelspec": {
   "display_name": "Python 3",
   "language": "python",
   "name": "python3"
  },
  "language_info": {
   "codemirror_mode": {
    "name": "ipython",
    "version": 3
   },
   "file_extension": ".py",
   "mimetype": "text/x-python",
   "name": "python",
   "nbconvert_exporter": "python",
   "pygments_lexer": "ipython3",
   "version": "3.7.4"
  }
 },
 "nbformat": 4,
 "nbformat_minor": 2
}
